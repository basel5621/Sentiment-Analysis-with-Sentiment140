{
  "nbformat": 4,
  "nbformat_minor": 0,
  "metadata": {
    "colab": {
      "provenance": [],
      "gpuType": "T4",
      "toc_visible": true,
      "include_colab_link": true
    },
    "kernelspec": {
      "name": "python3",
      "display_name": "Python 3"
    },
    "language_info": {
      "name": "python"
    },
    "accelerator": "GPU"
  },
  "cells": [
    {
      "cell_type": "markdown",
      "metadata": {
        "id": "view-in-github",
        "colab_type": "text"
      },
      "source": [
        "<a href=\"https://colab.research.google.com/github/basel5621/depi-project/blob/main/Training_LSTM_model.ipynb\" target=\"_parent\"><img src=\"https://colab.research.google.com/assets/colab-badge.svg\" alt=\"Open In Colab\"/></a>"
      ]
    },
    {
      "cell_type": "markdown",
      "source": [
        "# Setting up the environment"
      ],
      "metadata": {
        "id": "FWUY912v1TdL"
      }
    },
    {
      "cell_type": "code",
      "execution_count": null,
      "metadata": {
        "id": "EENSYs8xnfyN",
        "colab": {
          "base_uri": "https://localhost:8080/"
        },
        "outputId": "3011bcdd-8cb2-407d-910d-aae4e1e3bb7a"
      },
      "outputs": [
        {
          "output_type": "stream",
          "name": "stderr",
          "text": [
            "[nltk_data] Downloading package punkt to /root/nltk_data...\n",
            "[nltk_data]   Unzipping tokenizers/punkt.zip.\n"
          ]
        },
        {
          "output_type": "execute_result",
          "data": {
            "text/plain": [
              "True"
            ]
          },
          "metadata": {},
          "execution_count": 1
        }
      ],
      "source": [
        "import pandas as pd\n",
        "import numpy as np\n",
        "import matplotlib.pyplot as plt\n",
        "import seaborn as sns\n",
        "from nltk.tokenize import word_tokenize\n",
        "from gensim.models import Word2Vec\n",
        "import nltk\n",
        "nltk.download('punkt')"
      ]
    },
    {
      "cell_type": "code",
      "source": [
        "!wget --no-check-certificate 'https://docs.google.com/uc?export=download&id=1Ub8fqb0IG6Y2qfOM1YJMP3eWnDAJbcUr' -O train.csv\n",
        "\n",
        "!wget --no-check-certificate 'https://docs.google.com/uc?export=download&id=1IlceQkBYvn4VCQH5Rx7jV7rD2NjDdgkU' -O test.csv"
      ],
      "metadata": {
        "id": "QOMg1PeDG3cw",
        "colab": {
          "base_uri": "https://localhost:8080/"
        },
        "outputId": "e6b905f9-a644-417c-ee9d-0a9fd55bc46a"
      },
      "execution_count": null,
      "outputs": [
        {
          "output_type": "stream",
          "name": "stdout",
          "text": [
            "--2024-10-11 11:24:57--  https://docs.google.com/uc?export=download&id=1Ub8fqb0IG6Y2qfOM1YJMP3eWnDAJbcUr\n",
            "Resolving docs.google.com (docs.google.com)... 142.251.2.100, 142.251.2.102, 142.251.2.139, ...\n",
            "Connecting to docs.google.com (docs.google.com)|142.251.2.100|:443... connected.\n",
            "HTTP request sent, awaiting response... 303 See Other\n",
            "Location: https://drive.usercontent.google.com/download?id=1Ub8fqb0IG6Y2qfOM1YJMP3eWnDAJbcUr&export=download [following]\n",
            "--2024-10-11 11:24:58--  https://drive.usercontent.google.com/download?id=1Ub8fqb0IG6Y2qfOM1YJMP3eWnDAJbcUr&export=download\n",
            "Resolving drive.usercontent.google.com (drive.usercontent.google.com)... 142.251.2.132, 2607:f8b0:4023:c0d::84\n",
            "Connecting to drive.usercontent.google.com (drive.usercontent.google.com)|142.251.2.132|:443... connected.\n",
            "HTTP request sent, awaiting response... 200 OK\n",
            "Length: 39529308 (38M) [application/octet-stream]\n",
            "Saving to: ‘train.csv’\n",
            "\n",
            "train.csv           100%[===================>]  37.70M  72.7MB/s    in 0.5s    \n",
            "\n",
            "2024-10-11 11:25:02 (72.7 MB/s) - ‘train.csv’ saved [39529308/39529308]\n",
            "\n",
            "--2024-10-11 11:25:02--  https://docs.google.com/uc?export=download&id=1IlceQkBYvn4VCQH5Rx7jV7rD2NjDdgkU\n",
            "Resolving docs.google.com (docs.google.com)... 142.251.2.100, 142.251.2.102, 142.251.2.139, ...\n",
            "Connecting to docs.google.com (docs.google.com)|142.251.2.100|:443... connected.\n",
            "HTTP request sent, awaiting response... 303 See Other\n",
            "Location: https://drive.usercontent.google.com/download?id=1IlceQkBYvn4VCQH5Rx7jV7rD2NjDdgkU&export=download [following]\n",
            "--2024-10-11 11:25:02--  https://drive.usercontent.google.com/download?id=1IlceQkBYvn4VCQH5Rx7jV7rD2NjDdgkU&export=download\n",
            "Resolving drive.usercontent.google.com (drive.usercontent.google.com)... 142.251.2.132, 2607:f8b0:4023:c0d::84\n",
            "Connecting to drive.usercontent.google.com (drive.usercontent.google.com)|142.251.2.132|:443... connected.\n",
            "HTTP request sent, awaiting response... 200 OK\n",
            "Length: 4385874 (4.2M) [application/octet-stream]\n",
            "Saving to: ‘test.csv’\n",
            "\n",
            "test.csv            100%[===================>]   4.18M  22.9MB/s    in 0.2s    \n",
            "\n",
            "2024-10-11 11:25:06 (22.9 MB/s) - ‘test.csv’ saved [4385874/4385874]\n",
            "\n"
          ]
        }
      ]
    },
    {
      "cell_type": "code",
      "source": [
        "df_train = pd.read_csv('train.csv')\n",
        "df_test = pd.read_csv('test.csv')"
      ],
      "metadata": {
        "id": "qNpeHhJ4n08e"
      },
      "execution_count": null,
      "outputs": []
    },
    {
      "cell_type": "code",
      "source": [
        "df_train.head()"
      ],
      "metadata": {
        "id": "pwxblYVPo_hQ",
        "colab": {
          "base_uri": "https://localhost:8080/",
          "height": 206
        },
        "outputId": "9abbf3a0-5692-4a33-98af-5dfad71b874a"
      },
      "execution_count": null,
      "outputs": [
        {
          "output_type": "execute_result",
          "data": {
            "text/plain": [
              "                                        cleaned_text  label\n",
              "0  already tested blood 1947 long game ethnic cle...    1.0\n",
              "1                                 yep thats hate bad    0.0\n",
              "2                                              dream    1.0\n",
              "3  uk first past post electoral system broken lea...    0.0\n",
              "4  excited welcome one newest member team michell...    1.0"
            ],
            "text/html": [
              "\n",
              "  <div id=\"df-07bdeaeb-f675-4bf8-8064-9f7f0b0a204f\" class=\"colab-df-container\">\n",
              "    <div>\n",
              "<style scoped>\n",
              "    .dataframe tbody tr th:only-of-type {\n",
              "        vertical-align: middle;\n",
              "    }\n",
              "\n",
              "    .dataframe tbody tr th {\n",
              "        vertical-align: top;\n",
              "    }\n",
              "\n",
              "    .dataframe thead th {\n",
              "        text-align: right;\n",
              "    }\n",
              "</style>\n",
              "<table border=\"1\" class=\"dataframe\">\n",
              "  <thead>\n",
              "    <tr style=\"text-align: right;\">\n",
              "      <th></th>\n",
              "      <th>cleaned_text</th>\n",
              "      <th>label</th>\n",
              "    </tr>\n",
              "  </thead>\n",
              "  <tbody>\n",
              "    <tr>\n",
              "      <th>0</th>\n",
              "      <td>already tested blood 1947 long game ethnic cle...</td>\n",
              "      <td>1.0</td>\n",
              "    </tr>\n",
              "    <tr>\n",
              "      <th>1</th>\n",
              "      <td>yep thats hate bad</td>\n",
              "      <td>0.0</td>\n",
              "    </tr>\n",
              "    <tr>\n",
              "      <th>2</th>\n",
              "      <td>dream</td>\n",
              "      <td>1.0</td>\n",
              "    </tr>\n",
              "    <tr>\n",
              "      <th>3</th>\n",
              "      <td>uk first past post electoral system broken lea...</td>\n",
              "      <td>0.0</td>\n",
              "    </tr>\n",
              "    <tr>\n",
              "      <th>4</th>\n",
              "      <td>excited welcome one newest member team michell...</td>\n",
              "      <td>1.0</td>\n",
              "    </tr>\n",
              "  </tbody>\n",
              "</table>\n",
              "</div>\n",
              "    <div class=\"colab-df-buttons\">\n",
              "\n",
              "  <div class=\"colab-df-container\">\n",
              "    <button class=\"colab-df-convert\" onclick=\"convertToInteractive('df-07bdeaeb-f675-4bf8-8064-9f7f0b0a204f')\"\n",
              "            title=\"Convert this dataframe to an interactive table.\"\n",
              "            style=\"display:none;\">\n",
              "\n",
              "  <svg xmlns=\"http://www.w3.org/2000/svg\" height=\"24px\" viewBox=\"0 -960 960 960\">\n",
              "    <path d=\"M120-120v-720h720v720H120Zm60-500h600v-160H180v160Zm220 220h160v-160H400v160Zm0 220h160v-160H400v160ZM180-400h160v-160H180v160Zm440 0h160v-160H620v160ZM180-180h160v-160H180v160Zm440 0h160v-160H620v160Z\"/>\n",
              "  </svg>\n",
              "    </button>\n",
              "\n",
              "  <style>\n",
              "    .colab-df-container {\n",
              "      display:flex;\n",
              "      gap: 12px;\n",
              "    }\n",
              "\n",
              "    .colab-df-convert {\n",
              "      background-color: #E8F0FE;\n",
              "      border: none;\n",
              "      border-radius: 50%;\n",
              "      cursor: pointer;\n",
              "      display: none;\n",
              "      fill: #1967D2;\n",
              "      height: 32px;\n",
              "      padding: 0 0 0 0;\n",
              "      width: 32px;\n",
              "    }\n",
              "\n",
              "    .colab-df-convert:hover {\n",
              "      background-color: #E2EBFA;\n",
              "      box-shadow: 0px 1px 2px rgba(60, 64, 67, 0.3), 0px 1px 3px 1px rgba(60, 64, 67, 0.15);\n",
              "      fill: #174EA6;\n",
              "    }\n",
              "\n",
              "    .colab-df-buttons div {\n",
              "      margin-bottom: 4px;\n",
              "    }\n",
              "\n",
              "    [theme=dark] .colab-df-convert {\n",
              "      background-color: #3B4455;\n",
              "      fill: #D2E3FC;\n",
              "    }\n",
              "\n",
              "    [theme=dark] .colab-df-convert:hover {\n",
              "      background-color: #434B5C;\n",
              "      box-shadow: 0px 1px 3px 1px rgba(0, 0, 0, 0.15);\n",
              "      filter: drop-shadow(0px 1px 2px rgba(0, 0, 0, 0.3));\n",
              "      fill: #FFFFFF;\n",
              "    }\n",
              "  </style>\n",
              "\n",
              "    <script>\n",
              "      const buttonEl =\n",
              "        document.querySelector('#df-07bdeaeb-f675-4bf8-8064-9f7f0b0a204f button.colab-df-convert');\n",
              "      buttonEl.style.display =\n",
              "        google.colab.kernel.accessAllowed ? 'block' : 'none';\n",
              "\n",
              "      async function convertToInteractive(key) {\n",
              "        const element = document.querySelector('#df-07bdeaeb-f675-4bf8-8064-9f7f0b0a204f');\n",
              "        const dataTable =\n",
              "          await google.colab.kernel.invokeFunction('convertToInteractive',\n",
              "                                                    [key], {});\n",
              "        if (!dataTable) return;\n",
              "\n",
              "        const docLinkHtml = 'Like what you see? Visit the ' +\n",
              "          '<a target=\"_blank\" href=https://colab.research.google.com/notebooks/data_table.ipynb>data table notebook</a>'\n",
              "          + ' to learn more about interactive tables.';\n",
              "        element.innerHTML = '';\n",
              "        dataTable['output_type'] = 'display_data';\n",
              "        await google.colab.output.renderOutput(dataTable, element);\n",
              "        const docLink = document.createElement('div');\n",
              "        docLink.innerHTML = docLinkHtml;\n",
              "        element.appendChild(docLink);\n",
              "      }\n",
              "    </script>\n",
              "  </div>\n",
              "\n",
              "\n",
              "<div id=\"df-ab47c162-ca75-43f2-aec6-238516ba9f50\">\n",
              "  <button class=\"colab-df-quickchart\" onclick=\"quickchart('df-ab47c162-ca75-43f2-aec6-238516ba9f50')\"\n",
              "            title=\"Suggest charts\"\n",
              "            style=\"display:none;\">\n",
              "\n",
              "<svg xmlns=\"http://www.w3.org/2000/svg\" height=\"24px\"viewBox=\"0 0 24 24\"\n",
              "     width=\"24px\">\n",
              "    <g>\n",
              "        <path d=\"M19 3H5c-1.1 0-2 .9-2 2v14c0 1.1.9 2 2 2h14c1.1 0 2-.9 2-2V5c0-1.1-.9-2-2-2zM9 17H7v-7h2v7zm4 0h-2V7h2v10zm4 0h-2v-4h2v4z\"/>\n",
              "    </g>\n",
              "</svg>\n",
              "  </button>\n",
              "\n",
              "<style>\n",
              "  .colab-df-quickchart {\n",
              "      --bg-color: #E8F0FE;\n",
              "      --fill-color: #1967D2;\n",
              "      --hover-bg-color: #E2EBFA;\n",
              "      --hover-fill-color: #174EA6;\n",
              "      --disabled-fill-color: #AAA;\n",
              "      --disabled-bg-color: #DDD;\n",
              "  }\n",
              "\n",
              "  [theme=dark] .colab-df-quickchart {\n",
              "      --bg-color: #3B4455;\n",
              "      --fill-color: #D2E3FC;\n",
              "      --hover-bg-color: #434B5C;\n",
              "      --hover-fill-color: #FFFFFF;\n",
              "      --disabled-bg-color: #3B4455;\n",
              "      --disabled-fill-color: #666;\n",
              "  }\n",
              "\n",
              "  .colab-df-quickchart {\n",
              "    background-color: var(--bg-color);\n",
              "    border: none;\n",
              "    border-radius: 50%;\n",
              "    cursor: pointer;\n",
              "    display: none;\n",
              "    fill: var(--fill-color);\n",
              "    height: 32px;\n",
              "    padding: 0;\n",
              "    width: 32px;\n",
              "  }\n",
              "\n",
              "  .colab-df-quickchart:hover {\n",
              "    background-color: var(--hover-bg-color);\n",
              "    box-shadow: 0 1px 2px rgba(60, 64, 67, 0.3), 0 1px 3px 1px rgba(60, 64, 67, 0.15);\n",
              "    fill: var(--button-hover-fill-color);\n",
              "  }\n",
              "\n",
              "  .colab-df-quickchart-complete:disabled,\n",
              "  .colab-df-quickchart-complete:disabled:hover {\n",
              "    background-color: var(--disabled-bg-color);\n",
              "    fill: var(--disabled-fill-color);\n",
              "    box-shadow: none;\n",
              "  }\n",
              "\n",
              "  .colab-df-spinner {\n",
              "    border: 2px solid var(--fill-color);\n",
              "    border-color: transparent;\n",
              "    border-bottom-color: var(--fill-color);\n",
              "    animation:\n",
              "      spin 1s steps(1) infinite;\n",
              "  }\n",
              "\n",
              "  @keyframes spin {\n",
              "    0% {\n",
              "      border-color: transparent;\n",
              "      border-bottom-color: var(--fill-color);\n",
              "      border-left-color: var(--fill-color);\n",
              "    }\n",
              "    20% {\n",
              "      border-color: transparent;\n",
              "      border-left-color: var(--fill-color);\n",
              "      border-top-color: var(--fill-color);\n",
              "    }\n",
              "    30% {\n",
              "      border-color: transparent;\n",
              "      border-left-color: var(--fill-color);\n",
              "      border-top-color: var(--fill-color);\n",
              "      border-right-color: var(--fill-color);\n",
              "    }\n",
              "    40% {\n",
              "      border-color: transparent;\n",
              "      border-right-color: var(--fill-color);\n",
              "      border-top-color: var(--fill-color);\n",
              "    }\n",
              "    60% {\n",
              "      border-color: transparent;\n",
              "      border-right-color: var(--fill-color);\n",
              "    }\n",
              "    80% {\n",
              "      border-color: transparent;\n",
              "      border-right-color: var(--fill-color);\n",
              "      border-bottom-color: var(--fill-color);\n",
              "    }\n",
              "    90% {\n",
              "      border-color: transparent;\n",
              "      border-bottom-color: var(--fill-color);\n",
              "    }\n",
              "  }\n",
              "</style>\n",
              "\n",
              "  <script>\n",
              "    async function quickchart(key) {\n",
              "      const quickchartButtonEl =\n",
              "        document.querySelector('#' + key + ' button');\n",
              "      quickchartButtonEl.disabled = true;  // To prevent multiple clicks.\n",
              "      quickchartButtonEl.classList.add('colab-df-spinner');\n",
              "      try {\n",
              "        const charts = await google.colab.kernel.invokeFunction(\n",
              "            'suggestCharts', [key], {});\n",
              "      } catch (error) {\n",
              "        console.error('Error during call to suggestCharts:', error);\n",
              "      }\n",
              "      quickchartButtonEl.classList.remove('colab-df-spinner');\n",
              "      quickchartButtonEl.classList.add('colab-df-quickchart-complete');\n",
              "    }\n",
              "    (() => {\n",
              "      let quickchartButtonEl =\n",
              "        document.querySelector('#df-ab47c162-ca75-43f2-aec6-238516ba9f50 button');\n",
              "      quickchartButtonEl.style.display =\n",
              "        google.colab.kernel.accessAllowed ? 'block' : 'none';\n",
              "    })();\n",
              "  </script>\n",
              "</div>\n",
              "\n",
              "    </div>\n",
              "  </div>\n"
            ],
            "application/vnd.google.colaboratory.intrinsic+json": {
              "type": "dataframe",
              "variable_name": "df_train"
            }
          },
          "metadata": {},
          "execution_count": 4
        }
      ]
    },
    {
      "cell_type": "code",
      "source": [
        "X=df_train['cleaned_text'].astype(str)\n",
        "y=df_train['label']\n",
        "\n",
        "X_test=df_test['cleaned_text'].astype(str)\n",
        "y_test=df_test['label']\n",
        "\n",
        "X.info()"
      ],
      "metadata": {
        "id": "fABGwsahqKZm",
        "colab": {
          "base_uri": "https://localhost:8080/"
        },
        "outputId": "6831b257-0030-42cf-a769-d94565a05717"
      },
      "execution_count": null,
      "outputs": [
        {
          "output_type": "stream",
          "name": "stdout",
          "text": [
            "<class 'pandas.core.series.Series'>\n",
            "RangeIndex: 441353 entries, 0 to 441352\n",
            "Series name: cleaned_text\n",
            "Non-Null Count   Dtype \n",
            "--------------   ----- \n",
            "441353 non-null  object\n",
            "dtypes: object(1)\n",
            "memory usage: 3.4+ MB\n"
          ]
        }
      ]
    },
    {
      "cell_type": "markdown",
      "source": [
        "# Training Word2Vec model"
      ],
      "metadata": {
        "id": "qdWbS6-K12OF"
      }
    },
    {
      "cell_type": "code",
      "source": [
        "X_token=X.apply(word_tokenize)\n",
        "model_w2v = Word2Vec(X_token, vector_size=50, window=5, min_count=1, workers=8, sg=0)"
      ],
      "metadata": {
        "id": "i5HE7Dl7peIN"
      },
      "execution_count": null,
      "outputs": []
    },
    {
      "cell_type": "code",
      "source": [
        "print(model_w2v.wv.most_similar('happy'))"
      ],
      "metadata": {
        "id": "GAbtqA5Rs8uv",
        "colab": {
          "base_uri": "https://localhost:8080/"
        },
        "outputId": "2b1e4f2d-abd8-44ea-b48e-a8bd737eec14"
      },
      "execution_count": null,
      "outputs": [
        {
          "output_type": "stream",
          "name": "stdout",
          "text": [
            "[('lnt', 0.7261228561401367), ('blessed', 0.7246106863021851), ('thankful', 0.7221375107765198), ('grateful', 0.7055463194847107), ('hoping', 0.6868961453437805), ('glad', 0.6837871670722961), ('happiest', 0.6827980875968933), ('proud', 0.6753768920898438), ('gardenia', 0.6663734316825867), ('choicesalute', 0.6647347807884216)]\n"
          ]
        }
      ]
    },
    {
      "cell_type": "code",
      "source": [
        "print(model_w2v.wv.most_similar('love'))"
      ],
      "metadata": {
        "id": "HrPIPggYUSIx",
        "colab": {
          "base_uri": "https://localhost:8080/"
        },
        "outputId": "0518d615-5876-406f-b61b-29d65b8100ff"
      },
      "execution_count": null,
      "outputs": [
        {
          "output_type": "stream",
          "name": "stdout",
          "text": [
            "[('loved', 0.6988630890846252), ('friendship', 0.6960781812667847), ('enjoy', 0.694290041923523), ('joy', 0.653769314289093), ('beautiful', 0.6425268650054932), ('adore', 0.6312402486801147), ('todaybroke', 0.6283645033836365), ('appreciate', 0.6280300617218018), ('kindness', 0.624562680721283), ('amazing', 0.6237467527389526)]\n"
          ]
        }
      ]
    },
    {
      "cell_type": "code",
      "source": [
        "model_w2v.save(\"word2vec.model\")"
      ],
      "metadata": {
        "id": "52zrgklEuxwi"
      },
      "execution_count": null,
      "outputs": []
    },
    {
      "cell_type": "code",
      "source": [
        "loaded_model = Word2Vec.load(\"word2vec.model\")"
      ],
      "metadata": {
        "id": "uYnE38eLvYNL"
      },
      "execution_count": null,
      "outputs": []
    },
    {
      "cell_type": "markdown",
      "source": [
        "# Converting text to sequences"
      ],
      "metadata": {
        "id": "v8ZK-4e_154K"
      }
    },
    {
      "cell_type": "code",
      "source": [
        "from tensorflow.keras.preprocessing.text import Tokenizer\n",
        "from tensorflow.keras.preprocessing.sequence import pad_sequences\n",
        "\n",
        "tokenizer = Tokenizer()\n",
        "tokenizer.fit_on_texts(X)\n",
        "\n",
        "vocab_size = len(tokenizer.word_index)+1\n",
        "\n",
        "X_train_seq = tokenizer.texts_to_sequences(X)\n",
        "\n",
        "max_len = max(len(seq) for seq in X_train_seq)\n",
        "X_train_padded = pad_sequences(X_train_seq , maxlen=max_len , padding='post')\n",
        "vocab_size"
      ],
      "metadata": {
        "id": "9ZG1zspUv1cE",
        "colab": {
          "base_uri": "https://localhost:8080/"
        },
        "outputId": "ee53386a-6536-42e7-ad17-6eb82ee6bb3b"
      },
      "execution_count": null,
      "outputs": [
        {
          "output_type": "execute_result",
          "data": {
            "text/plain": [
              "181849"
            ]
          },
          "metadata": {},
          "execution_count": 11
        }
      ]
    },
    {
      "cell_type": "markdown",
      "source": [
        "# Creating embedding matrix"
      ],
      "metadata": {
        "id": "4fo8hlnM16ku"
      }
    },
    {
      "cell_type": "code",
      "source": [
        "embedding_dim = model_w2v.vector_size  # 300 in your case\n",
        "embedding_matrix = np.zeros((vocab_size, model_w2v.vector_size))\n",
        "for word, i in tokenizer.word_index.items():\n",
        "    if word in model_w2v.wv:\n",
        "        embedding_matrix[i] = model_w2v.wv[word]\n",
        "    else:\n",
        "        embedding_matrix[i] = np.random.normal(size=(embedding_dim,))"
      ],
      "metadata": {
        "id": "Hkb85v9zwCDF"
      },
      "execution_count": null,
      "outputs": []
    },
    {
      "cell_type": "code",
      "source": [
        "embedding_matrix.shape"
      ],
      "metadata": {
        "id": "uYIdQySJHp24",
        "colab": {
          "base_uri": "https://localhost:8080/"
        },
        "outputId": "8161fa93-88de-4682-9cd0-ab08026a14a6"
      },
      "execution_count": null,
      "outputs": [
        {
          "output_type": "execute_result",
          "data": {
            "text/plain": [
              "(181849, 50)"
            ]
          },
          "metadata": {},
          "execution_count": 13
        }
      ]
    },
    {
      "cell_type": "markdown",
      "source": [
        "# saving"
      ],
      "metadata": {
        "id": "QpPdiEgCbLJh"
      }
    },
    {
      "cell_type": "code",
      "source": [
        "import pickle\n",
        "with open('tokenizer5.pkl', 'wb') as f:\n",
        "    pickle.dump(tokenizer, f)"
      ],
      "metadata": {
        "id": "Tcy6B6j2bNyd"
      },
      "execution_count": null,
      "outputs": []
    },
    {
      "cell_type": "markdown",
      "source": [
        "# Trianing model"
      ],
      "metadata": {
        "id": "XKuUN_sE6AqA"
      }
    },
    {
      "cell_type": "code",
      "source": [
        "from tensorflow.keras import regularizers, callbacks\n",
        "from tensorflow.keras.models import Sequential\n",
        "from tensorflow.keras.layers import Embedding, SimpleRNN, Dense ,Dropout\n",
        "from tensorflow.keras import layers\n",
        "\n",
        "\n",
        "BI_LSTM_model = Sequential([\n",
        "    layers.Input(shape=(max_len,)),\n",
        "    layers.Embedding(input_dim=vocab_size, output_dim=model_w2v.vector_size, weights=[embedding_matrix], trainable=False),\n",
        "    layers.Bidirectional(layers.LSTM(256, return_sequences=True, kernel_regularizer=regularizers.l2(0.01))),\n",
        "    layers.GlobalMaxPool1D(),\n",
        "    layers.Dropout(0.3),\n",
        "    layers.Dense(128, activation=\"relu\", kernel_regularizer=regularizers.l2(0.001)),\n",
        "    layers.Dropout(0.3),\n",
        "    layers.Dense(1, activation='sigmoid')\n",
        "])\n",
        "\n",
        "BI_LSTM_model.compile(optimizer='adam', loss='binary_crossentropy', metrics=['accuracy'])\n",
        "\n",
        "early_stopping = callbacks.EarlyStopping(monitor='val_loss', patience=20, restore_best_weights=True)\n",
        "\n",
        "BI_LSTM_model.summary()"
      ],
      "metadata": {
        "id": "bz6JkZluwFbM",
        "colab": {
          "base_uri": "https://localhost:8080/",
          "height": 391
        },
        "outputId": "a1433fbe-b7ea-476f-9045-7e0426e83644"
      },
      "execution_count": null,
      "outputs": [
        {
          "output_type": "display_data",
          "data": {
            "text/plain": [
              "\u001b[1mModel: \"sequential\"\u001b[0m\n"
            ],
            "text/html": [
              "<pre style=\"white-space:pre;overflow-x:auto;line-height:normal;font-family:Menlo,'DejaVu Sans Mono',consolas,'Courier New',monospace\"><span style=\"font-weight: bold\">Model: \"sequential\"</span>\n",
              "</pre>\n"
            ]
          },
          "metadata": {}
        },
        {
          "output_type": "display_data",
          "data": {
            "text/plain": [
              "┏━━━━━━━━━━━━━━━━━━━━━━━━━━━━━━━━━━━━━━┳━━━━━━━━━━━━━━━━━━━━━━━━━━━━━┳━━━━━━━━━━━━━━━━━┓\n",
              "┃\u001b[1m \u001b[0m\u001b[1mLayer (type)                        \u001b[0m\u001b[1m \u001b[0m┃\u001b[1m \u001b[0m\u001b[1mOutput Shape               \u001b[0m\u001b[1m \u001b[0m┃\u001b[1m \u001b[0m\u001b[1m        Param #\u001b[0m\u001b[1m \u001b[0m┃\n",
              "┡━━━━━━━━━━━━━━━━━━━━━━━━━━━━━━━━━━━━━━╇━━━━━━━━━━━━━━━━━━━━━━━━━━━━━╇━━━━━━━━━━━━━━━━━┩\n",
              "│ embedding (\u001b[38;5;33mEmbedding\u001b[0m)                │ (\u001b[38;5;45mNone\u001b[0m, \u001b[38;5;34m68\u001b[0m, \u001b[38;5;34m50\u001b[0m)              │       \u001b[38;5;34m9,092,450\u001b[0m │\n",
              "├──────────────────────────────────────┼─────────────────────────────┼─────────────────┤\n",
              "│ bidirectional (\u001b[38;5;33mBidirectional\u001b[0m)        │ (\u001b[38;5;45mNone\u001b[0m, \u001b[38;5;34m68\u001b[0m, \u001b[38;5;34m512\u001b[0m)             │         \u001b[38;5;34m628,736\u001b[0m │\n",
              "├──────────────────────────────────────┼─────────────────────────────┼─────────────────┤\n",
              "│ global_max_pooling1d                 │ (\u001b[38;5;45mNone\u001b[0m, \u001b[38;5;34m512\u001b[0m)                 │               \u001b[38;5;34m0\u001b[0m │\n",
              "│ (\u001b[38;5;33mGlobalMaxPooling1D\u001b[0m)                 │                             │                 │\n",
              "├──────────────────────────────────────┼─────────────────────────────┼─────────────────┤\n",
              "│ dropout (\u001b[38;5;33mDropout\u001b[0m)                    │ (\u001b[38;5;45mNone\u001b[0m, \u001b[38;5;34m512\u001b[0m)                 │               \u001b[38;5;34m0\u001b[0m │\n",
              "├──────────────────────────────────────┼─────────────────────────────┼─────────────────┤\n",
              "│ dense (\u001b[38;5;33mDense\u001b[0m)                        │ (\u001b[38;5;45mNone\u001b[0m, \u001b[38;5;34m128\u001b[0m)                 │          \u001b[38;5;34m65,664\u001b[0m │\n",
              "├──────────────────────────────────────┼─────────────────────────────┼─────────────────┤\n",
              "│ dropout_1 (\u001b[38;5;33mDropout\u001b[0m)                  │ (\u001b[38;5;45mNone\u001b[0m, \u001b[38;5;34m128\u001b[0m)                 │               \u001b[38;5;34m0\u001b[0m │\n",
              "├──────────────────────────────────────┼─────────────────────────────┼─────────────────┤\n",
              "│ dense_1 (\u001b[38;5;33mDense\u001b[0m)                      │ (\u001b[38;5;45mNone\u001b[0m, \u001b[38;5;34m1\u001b[0m)                   │             \u001b[38;5;34m129\u001b[0m │\n",
              "└──────────────────────────────────────┴─────────────────────────────┴─────────────────┘\n"
            ],
            "text/html": [
              "<pre style=\"white-space:pre;overflow-x:auto;line-height:normal;font-family:Menlo,'DejaVu Sans Mono',consolas,'Courier New',monospace\">┏━━━━━━━━━━━━━━━━━━━━━━━━━━━━━━━━━━━━━━┳━━━━━━━━━━━━━━━━━━━━━━━━━━━━━┳━━━━━━━━━━━━━━━━━┓\n",
              "┃<span style=\"font-weight: bold\"> Layer (type)                         </span>┃<span style=\"font-weight: bold\"> Output Shape                </span>┃<span style=\"font-weight: bold\">         Param # </span>┃\n",
              "┡━━━━━━━━━━━━━━━━━━━━━━━━━━━━━━━━━━━━━━╇━━━━━━━━━━━━━━━━━━━━━━━━━━━━━╇━━━━━━━━━━━━━━━━━┩\n",
              "│ embedding (<span style=\"color: #0087ff; text-decoration-color: #0087ff\">Embedding</span>)                │ (<span style=\"color: #00d7ff; text-decoration-color: #00d7ff\">None</span>, <span style=\"color: #00af00; text-decoration-color: #00af00\">68</span>, <span style=\"color: #00af00; text-decoration-color: #00af00\">50</span>)              │       <span style=\"color: #00af00; text-decoration-color: #00af00\">9,092,450</span> │\n",
              "├──────────────────────────────────────┼─────────────────────────────┼─────────────────┤\n",
              "│ bidirectional (<span style=\"color: #0087ff; text-decoration-color: #0087ff\">Bidirectional</span>)        │ (<span style=\"color: #00d7ff; text-decoration-color: #00d7ff\">None</span>, <span style=\"color: #00af00; text-decoration-color: #00af00\">68</span>, <span style=\"color: #00af00; text-decoration-color: #00af00\">512</span>)             │         <span style=\"color: #00af00; text-decoration-color: #00af00\">628,736</span> │\n",
              "├──────────────────────────────────────┼─────────────────────────────┼─────────────────┤\n",
              "│ global_max_pooling1d                 │ (<span style=\"color: #00d7ff; text-decoration-color: #00d7ff\">None</span>, <span style=\"color: #00af00; text-decoration-color: #00af00\">512</span>)                 │               <span style=\"color: #00af00; text-decoration-color: #00af00\">0</span> │\n",
              "│ (<span style=\"color: #0087ff; text-decoration-color: #0087ff\">GlobalMaxPooling1D</span>)                 │                             │                 │\n",
              "├──────────────────────────────────────┼─────────────────────────────┼─────────────────┤\n",
              "│ dropout (<span style=\"color: #0087ff; text-decoration-color: #0087ff\">Dropout</span>)                    │ (<span style=\"color: #00d7ff; text-decoration-color: #00d7ff\">None</span>, <span style=\"color: #00af00; text-decoration-color: #00af00\">512</span>)                 │               <span style=\"color: #00af00; text-decoration-color: #00af00\">0</span> │\n",
              "├──────────────────────────────────────┼─────────────────────────────┼─────────────────┤\n",
              "│ dense (<span style=\"color: #0087ff; text-decoration-color: #0087ff\">Dense</span>)                        │ (<span style=\"color: #00d7ff; text-decoration-color: #00d7ff\">None</span>, <span style=\"color: #00af00; text-decoration-color: #00af00\">128</span>)                 │          <span style=\"color: #00af00; text-decoration-color: #00af00\">65,664</span> │\n",
              "├──────────────────────────────────────┼─────────────────────────────┼─────────────────┤\n",
              "│ dropout_1 (<span style=\"color: #0087ff; text-decoration-color: #0087ff\">Dropout</span>)                  │ (<span style=\"color: #00d7ff; text-decoration-color: #00d7ff\">None</span>, <span style=\"color: #00af00; text-decoration-color: #00af00\">128</span>)                 │               <span style=\"color: #00af00; text-decoration-color: #00af00\">0</span> │\n",
              "├──────────────────────────────────────┼─────────────────────────────┼─────────────────┤\n",
              "│ dense_1 (<span style=\"color: #0087ff; text-decoration-color: #0087ff\">Dense</span>)                      │ (<span style=\"color: #00d7ff; text-decoration-color: #00d7ff\">None</span>, <span style=\"color: #00af00; text-decoration-color: #00af00\">1</span>)                   │             <span style=\"color: #00af00; text-decoration-color: #00af00\">129</span> │\n",
              "└──────────────────────────────────────┴─────────────────────────────┴─────────────────┘\n",
              "</pre>\n"
            ]
          },
          "metadata": {}
        },
        {
          "output_type": "display_data",
          "data": {
            "text/plain": [
              "\u001b[1m Total params: \u001b[0m\u001b[38;5;34m9,786,979\u001b[0m (37.33 MB)\n"
            ],
            "text/html": [
              "<pre style=\"white-space:pre;overflow-x:auto;line-height:normal;font-family:Menlo,'DejaVu Sans Mono',consolas,'Courier New',monospace\"><span style=\"font-weight: bold\"> Total params: </span><span style=\"color: #00af00; text-decoration-color: #00af00\">9,786,979</span> (37.33 MB)\n",
              "</pre>\n"
            ]
          },
          "metadata": {}
        },
        {
          "output_type": "display_data",
          "data": {
            "text/plain": [
              "\u001b[1m Trainable params: \u001b[0m\u001b[38;5;34m694,529\u001b[0m (2.65 MB)\n"
            ],
            "text/html": [
              "<pre style=\"white-space:pre;overflow-x:auto;line-height:normal;font-family:Menlo,'DejaVu Sans Mono',consolas,'Courier New',monospace\"><span style=\"font-weight: bold\"> Trainable params: </span><span style=\"color: #00af00; text-decoration-color: #00af00\">694,529</span> (2.65 MB)\n",
              "</pre>\n"
            ]
          },
          "metadata": {}
        },
        {
          "output_type": "display_data",
          "data": {
            "text/plain": [
              "\u001b[1m Non-trainable params: \u001b[0m\u001b[38;5;34m9,092,450\u001b[0m (34.68 MB)\n"
            ],
            "text/html": [
              "<pre style=\"white-space:pre;overflow-x:auto;line-height:normal;font-family:Menlo,'DejaVu Sans Mono',consolas,'Courier New',monospace\"><span style=\"font-weight: bold\"> Non-trainable params: </span><span style=\"color: #00af00; text-decoration-color: #00af00\">9,092,450</span> (34.68 MB)\n",
              "</pre>\n"
            ]
          },
          "metadata": {}
        }
      ]
    },
    {
      "cell_type": "code",
      "source": [
        "BI_history=BI_LSTM_model.fit(X_train_padded, y, epochs=100, batch_size=512, validation_split=0.1,callbacks=[early_stopping])"
      ],
      "metadata": {
        "colab": {
          "base_uri": "https://localhost:8080/"
        },
        "id": "Pn41d5jYwMEo",
        "outputId": "f09ad3cc-3d40-47d1-fb74-e4c150927bbb"
      },
      "execution_count": null,
      "outputs": [
        {
          "output_type": "stream",
          "name": "stdout",
          "text": [
            "Epoch 1/100\n",
            "\u001b[1m776/776\u001b[0m \u001b[32m━━━━━━━━━━━━━━━━━━━━\u001b[0m\u001b[37m\u001b[0m \u001b[1m57s\u001b[0m 65ms/step - accuracy: 0.9606 - loss: 0.4616 - val_accuracy: 0.9861 - val_loss: 0.0508\n",
            "Epoch 2/100\n",
            "\u001b[1m776/776\u001b[0m \u001b[32m━━━━━━━━━━━━━━━━━━━━\u001b[0m\u001b[37m\u001b[0m \u001b[1m80s\u001b[0m 67ms/step - accuracy: 0.9840 - loss: 0.0541 - val_accuracy: 0.9867 - val_loss: 0.0461\n",
            "Epoch 3/100\n",
            "\u001b[1m776/776\u001b[0m \u001b[32m━━━━━━━━━━━━━━━━━━━━\u001b[0m\u001b[37m\u001b[0m \u001b[1m82s\u001b[0m 68ms/step - accuracy: 0.9851 - loss: 0.0509 - val_accuracy: 0.9865 - val_loss: 0.0446\n",
            "Epoch 4/100\n",
            "\u001b[1m776/776\u001b[0m \u001b[32m━━━━━━━━━━━━━━━━━━━━\u001b[0m\u001b[37m\u001b[0m \u001b[1m82s\u001b[0m 68ms/step - accuracy: 0.9853 - loss: 0.0481 - val_accuracy: 0.9875 - val_loss: 0.0429\n",
            "Epoch 5/100\n",
            "\u001b[1m776/776\u001b[0m \u001b[32m━━━━━━━━━━━━━━━━━━━━\u001b[0m\u001b[37m\u001b[0m \u001b[1m82s\u001b[0m 68ms/step - accuracy: 0.9856 - loss: 0.0465 - val_accuracy: 0.9866 - val_loss: 0.0428\n",
            "Epoch 6/100\n",
            "\u001b[1m776/776\u001b[0m \u001b[32m━━━━━━━━━━━━━━━━━━━━\u001b[0m\u001b[37m\u001b[0m \u001b[1m82s\u001b[0m 69ms/step - accuracy: 0.9855 - loss: 0.0461 - val_accuracy: 0.9871 - val_loss: 0.0409\n",
            "Epoch 7/100\n",
            "\u001b[1m776/776\u001b[0m \u001b[32m━━━━━━━━━━━━━━━━━━━━\u001b[0m\u001b[37m\u001b[0m \u001b[1m82s\u001b[0m 69ms/step - accuracy: 0.9859 - loss: 0.0441 - val_accuracy: 0.9874 - val_loss: 0.0395\n",
            "Epoch 8/100\n",
            "\u001b[1m776/776\u001b[0m \u001b[32m━━━━━━━━━━━━━━━━━━━━\u001b[0m\u001b[37m\u001b[0m \u001b[1m53s\u001b[0m 68ms/step - accuracy: 0.9859 - loss: 0.0437 - val_accuracy: 0.9872 - val_loss: 0.0404\n",
            "Epoch 9/100\n",
            "\u001b[1m776/776\u001b[0m \u001b[32m━━━━━━━━━━━━━━━━━━━━\u001b[0m\u001b[37m\u001b[0m \u001b[1m83s\u001b[0m 68ms/step - accuracy: 0.9858 - loss: 0.0432 - val_accuracy: 0.9870 - val_loss: 0.0397\n",
            "Epoch 10/100\n",
            "\u001b[1m776/776\u001b[0m \u001b[32m━━━━━━━━━━━━━━━━━━━━\u001b[0m\u001b[37m\u001b[0m \u001b[1m82s\u001b[0m 69ms/step - accuracy: 0.9857 - loss: 0.0436 - val_accuracy: 0.9875 - val_loss: 0.0396\n",
            "Epoch 11/100\n",
            "\u001b[1m776/776\u001b[0m \u001b[32m━━━━━━━━━━━━━━━━━━━━\u001b[0m\u001b[37m\u001b[0m \u001b[1m82s\u001b[0m 69ms/step - accuracy: 0.9862 - loss: 0.0423 - val_accuracy: 0.9873 - val_loss: 0.0390\n",
            "Epoch 12/100\n",
            "\u001b[1m776/776\u001b[0m \u001b[32m━━━━━━━━━━━━━━━━━━━━\u001b[0m\u001b[37m\u001b[0m \u001b[1m81s\u001b[0m 68ms/step - accuracy: 0.9862 - loss: 0.0412 - val_accuracy: 0.9875 - val_loss: 0.0391\n",
            "Epoch 13/100\n",
            "\u001b[1m776/776\u001b[0m \u001b[32m━━━━━━━━━━━━━━━━━━━━\u001b[0m\u001b[37m\u001b[0m \u001b[1m82s\u001b[0m 69ms/step - accuracy: 0.9860 - loss: 0.0412 - val_accuracy: 0.9873 - val_loss: 0.0393\n",
            "Epoch 14/100\n",
            "\u001b[1m776/776\u001b[0m \u001b[32m━━━━━━━━━━━━━━━━━━━━\u001b[0m\u001b[37m\u001b[0m \u001b[1m82s\u001b[0m 69ms/step - accuracy: 0.9861 - loss: 0.0406 - val_accuracy: 0.9872 - val_loss: 0.0379\n",
            "Epoch 15/100\n",
            "\u001b[1m776/776\u001b[0m \u001b[32m━━━━━━━━━━━━━━━━━━━━\u001b[0m\u001b[37m\u001b[0m \u001b[1m82s\u001b[0m 68ms/step - accuracy: 0.9865 - loss: 0.0398 - val_accuracy: 0.9876 - val_loss: 0.0371\n",
            "Epoch 16/100\n",
            "\u001b[1m776/776\u001b[0m \u001b[32m━━━━━━━━━━━━━━━━━━━━\u001b[0m\u001b[37m\u001b[0m \u001b[1m82s\u001b[0m 68ms/step - accuracy: 0.9864 - loss: 0.0390 - val_accuracy: 0.9870 - val_loss: 0.0376\n",
            "Epoch 17/100\n",
            "\u001b[1m776/776\u001b[0m \u001b[32m━━━━━━━━━━━━━━━━━━━━\u001b[0m\u001b[37m\u001b[0m \u001b[1m82s\u001b[0m 69ms/step - accuracy: 0.9866 - loss: 0.0398 - val_accuracy: 0.9874 - val_loss: 0.0374\n",
            "Epoch 18/100\n",
            "\u001b[1m776/776\u001b[0m \u001b[32m━━━━━━━━━━━━━━━━━━━━\u001b[0m\u001b[37m\u001b[0m \u001b[1m82s\u001b[0m 68ms/step - accuracy: 0.9863 - loss: 0.0395 - val_accuracy: 0.9872 - val_loss: 0.0373\n",
            "Epoch 19/100\n",
            "\u001b[1m776/776\u001b[0m \u001b[32m━━━━━━━━━━━━━━━━━━━━\u001b[0m\u001b[37m\u001b[0m \u001b[1m82s\u001b[0m 68ms/step - accuracy: 0.9867 - loss: 0.0387 - val_accuracy: 0.9874 - val_loss: 0.0371\n",
            "Epoch 20/100\n",
            "\u001b[1m776/776\u001b[0m \u001b[32m━━━━━━━━━━━━━━━━━━━━\u001b[0m\u001b[37m\u001b[0m \u001b[1m82s\u001b[0m 69ms/step - accuracy: 0.9866 - loss: 0.0388 - val_accuracy: 0.9878 - val_loss: 0.0381\n",
            "Epoch 21/100\n",
            "\u001b[1m776/776\u001b[0m \u001b[32m━━━━━━━━━━━━━━━━━━━━\u001b[0m\u001b[37m\u001b[0m \u001b[1m82s\u001b[0m 69ms/step - accuracy: 0.9862 - loss: 0.0394 - val_accuracy: 0.9877 - val_loss: 0.0379\n",
            "Epoch 22/100\n",
            "\u001b[1m776/776\u001b[0m \u001b[32m━━━━━━━━━━━━━━━━━━━━\u001b[0m\u001b[37m\u001b[0m \u001b[1m82s\u001b[0m 69ms/step - accuracy: 0.9868 - loss: 0.0380 - val_accuracy: 0.9877 - val_loss: 0.0386\n",
            "Epoch 23/100\n",
            "\u001b[1m776/776\u001b[0m \u001b[32m━━━━━━━━━━━━━━━━━━━━\u001b[0m\u001b[37m\u001b[0m \u001b[1m82s\u001b[0m 69ms/step - accuracy: 0.9868 - loss: 0.0385 - val_accuracy: 0.9880 - val_loss: 0.0367\n",
            "Epoch 24/100\n",
            "\u001b[1m776/776\u001b[0m \u001b[32m━━━━━━━━━━━━━━━━━━━━\u001b[0m\u001b[37m\u001b[0m \u001b[1m82s\u001b[0m 69ms/step - accuracy: 0.9867 - loss: 0.0389 - val_accuracy: 0.9872 - val_loss: 0.0373\n",
            "Epoch 25/100\n",
            "\u001b[1m776/776\u001b[0m \u001b[32m━━━━━━━━━━━━━━━━━━━━\u001b[0m\u001b[37m\u001b[0m \u001b[1m82s\u001b[0m 69ms/step - accuracy: 0.9868 - loss: 0.0390 - val_accuracy: 0.9878 - val_loss: 0.0371\n",
            "Epoch 26/100\n",
            "\u001b[1m776/776\u001b[0m \u001b[32m━━━━━━━━━━━━━━━━━━━━\u001b[0m\u001b[37m\u001b[0m \u001b[1m82s\u001b[0m 69ms/step - accuracy: 0.9866 - loss: 0.0390 - val_accuracy: 0.9877 - val_loss: 0.0365\n",
            "Epoch 27/100\n",
            "\u001b[1m776/776\u001b[0m \u001b[32m━━━━━━━━━━━━━━━━━━━━\u001b[0m\u001b[37m\u001b[0m \u001b[1m53s\u001b[0m 69ms/step - accuracy: 0.9869 - loss: 0.0386 - val_accuracy: 0.9874 - val_loss: 0.0437\n",
            "Epoch 28/100\n",
            "\u001b[1m776/776\u001b[0m \u001b[32m━━━━━━━━━━━━━━━━━━━━\u001b[0m\u001b[37m\u001b[0m \u001b[1m82s\u001b[0m 69ms/step - accuracy: 0.9866 - loss: 0.0403 - val_accuracy: 0.9878 - val_loss: 0.0359\n",
            "Epoch 29/100\n",
            "\u001b[1m776/776\u001b[0m \u001b[32m━━━━━━━━━━━━━━━━━━━━\u001b[0m\u001b[37m\u001b[0m \u001b[1m82s\u001b[0m 69ms/step - accuracy: 0.9866 - loss: 0.0377 - val_accuracy: 0.9875 - val_loss: 0.0370\n",
            "Epoch 30/100\n",
            "\u001b[1m776/776\u001b[0m \u001b[32m━━━━━━━━━━━━━━━━━━━━\u001b[0m\u001b[37m\u001b[0m \u001b[1m82s\u001b[0m 69ms/step - accuracy: 0.9869 - loss: 0.0382 - val_accuracy: 0.9879 - val_loss: 0.0370\n",
            "Epoch 31/100\n",
            "\u001b[1m776/776\u001b[0m \u001b[32m━━━━━━━━━━━━━━━━━━━━\u001b[0m\u001b[37m\u001b[0m \u001b[1m82s\u001b[0m 69ms/step - accuracy: 0.9867 - loss: 0.0389 - val_accuracy: 0.9880 - val_loss: 0.0363\n",
            "Epoch 32/100\n",
            "\u001b[1m776/776\u001b[0m \u001b[32m━━━━━━━━━━━━━━━━━━━━\u001b[0m\u001b[37m\u001b[0m \u001b[1m82s\u001b[0m 69ms/step - accuracy: 0.9868 - loss: 0.0387 - val_accuracy: 0.9879 - val_loss: 0.0356\n",
            "Epoch 33/100\n",
            "\u001b[1m776/776\u001b[0m \u001b[32m━━━━━━━━━━━━━━━━━━━━\u001b[0m\u001b[37m\u001b[0m \u001b[1m82s\u001b[0m 69ms/step - accuracy: 0.9868 - loss: 0.0383 - val_accuracy: 0.9873 - val_loss: 0.0369\n",
            "Epoch 34/100\n",
            "\u001b[1m776/776\u001b[0m \u001b[32m━━━━━━━━━━━━━━━━━━━━\u001b[0m\u001b[37m\u001b[0m \u001b[1m82s\u001b[0m 69ms/step - accuracy: 0.9868 - loss: 0.0380 - val_accuracy: 0.9879 - val_loss: 0.0359\n",
            "Epoch 35/100\n",
            "\u001b[1m776/776\u001b[0m \u001b[32m━━━━━━━━━━━━━━━━━━━━\u001b[0m\u001b[37m\u001b[0m \u001b[1m82s\u001b[0m 69ms/step - accuracy: 0.9869 - loss: 0.0375 - val_accuracy: 0.9876 - val_loss: 0.0372\n",
            "Epoch 36/100\n",
            "\u001b[1m776/776\u001b[0m \u001b[32m━━━━━━━━━━━━━━━━━━━━\u001b[0m\u001b[37m\u001b[0m \u001b[1m82s\u001b[0m 69ms/step - accuracy: 0.9867 - loss: 0.0387 - val_accuracy: 0.9875 - val_loss: 0.0378\n",
            "Epoch 37/100\n",
            "\u001b[1m776/776\u001b[0m \u001b[32m━━━━━━━━━━━━━━━━━━━━\u001b[0m\u001b[37m\u001b[0m \u001b[1m82s\u001b[0m 69ms/step - accuracy: 0.9870 - loss: 0.0374 - val_accuracy: 0.9878 - val_loss: 0.0374\n",
            "Epoch 38/100\n",
            "\u001b[1m776/776\u001b[0m \u001b[32m━━━━━━━━━━━━━━━━━━━━\u001b[0m\u001b[37m\u001b[0m \u001b[1m82s\u001b[0m 69ms/step - accuracy: 0.9868 - loss: 0.0387 - val_accuracy: 0.9878 - val_loss: 0.0357\n",
            "Epoch 39/100\n",
            "\u001b[1m776/776\u001b[0m \u001b[32m━━━━━━━━━━━━━━━━━━━━\u001b[0m\u001b[37m\u001b[0m \u001b[1m82s\u001b[0m 69ms/step - accuracy: 0.9870 - loss: 0.0368 - val_accuracy: 0.9868 - val_loss: 0.0405\n",
            "Epoch 40/100\n",
            "\u001b[1m776/776\u001b[0m \u001b[32m━━━━━━━━━━━━━━━━━━━━\u001b[0m\u001b[37m\u001b[0m \u001b[1m82s\u001b[0m 69ms/step - accuracy: 0.9869 - loss: 0.0382 - val_accuracy: 0.9874 - val_loss: 0.0374\n",
            "Epoch 41/100\n",
            "\u001b[1m776/776\u001b[0m \u001b[32m━━━━━━━━━━━━━━━━━━━━\u001b[0m\u001b[37m\u001b[0m \u001b[1m82s\u001b[0m 69ms/step - accuracy: 0.9870 - loss: 0.0374 - val_accuracy: 0.9880 - val_loss: 0.0365\n",
            "Epoch 42/100\n",
            "\u001b[1m776/776\u001b[0m \u001b[32m━━━━━━━━━━━━━━━━━━━━\u001b[0m\u001b[37m\u001b[0m \u001b[1m53s\u001b[0m 69ms/step - accuracy: 0.9867 - loss: 0.0375 - val_accuracy: 0.9877 - val_loss: 0.0360\n",
            "Epoch 43/100\n",
            "\u001b[1m776/776\u001b[0m \u001b[32m━━━━━━━━━━━━━━━━━━━━\u001b[0m\u001b[37m\u001b[0m \u001b[1m82s\u001b[0m 69ms/step - accuracy: 0.9871 - loss: 0.0375 - val_accuracy: 0.9876 - val_loss: 0.0361\n",
            "Epoch 44/100\n",
            "\u001b[1m776/776\u001b[0m \u001b[32m━━━━━━━━━━━━━━━━━━━━\u001b[0m\u001b[37m\u001b[0m \u001b[1m82s\u001b[0m 69ms/step - accuracy: 0.9868 - loss: 0.0384 - val_accuracy: 0.9870 - val_loss: 0.0367\n",
            "Epoch 45/100\n",
            "\u001b[1m776/776\u001b[0m \u001b[32m━━━━━━━━━━━━━━━━━━━━\u001b[0m\u001b[37m\u001b[0m \u001b[1m82s\u001b[0m 69ms/step - accuracy: 0.9869 - loss: 0.0383 - val_accuracy: 0.9874 - val_loss: 0.0375\n",
            "Epoch 46/100\n",
            "\u001b[1m776/776\u001b[0m \u001b[32m━━━━━━━━━━━━━━━━━━━━\u001b[0m\u001b[37m\u001b[0m \u001b[1m82s\u001b[0m 69ms/step - accuracy: 0.9874 - loss: 0.0372 - val_accuracy: 0.9880 - val_loss: 0.0365\n",
            "Epoch 47/100\n",
            "\u001b[1m776/776\u001b[0m \u001b[32m━━━━━━━━━━━━━━━━━━━━\u001b[0m\u001b[37m\u001b[0m \u001b[1m82s\u001b[0m 69ms/step - accuracy: 0.9873 - loss: 0.0376 - val_accuracy: 0.9878 - val_loss: 0.0369\n",
            "Epoch 48/100\n",
            "\u001b[1m776/776\u001b[0m \u001b[32m━━━━━━━━━━━━━━━━━━━━\u001b[0m\u001b[37m\u001b[0m \u001b[1m82s\u001b[0m 69ms/step - accuracy: 0.9873 - loss: 0.0375 - val_accuracy: 0.9877 - val_loss: 0.0381\n",
            "Epoch 49/100\n",
            "\u001b[1m776/776\u001b[0m \u001b[32m━━━━━━━━━━━━━━━━━━━━\u001b[0m\u001b[37m\u001b[0m \u001b[1m82s\u001b[0m 69ms/step - accuracy: 0.9875 - loss: 0.0367 - val_accuracy: 0.9872 - val_loss: 0.0381\n",
            "Epoch 50/100\n",
            "\u001b[1m776/776\u001b[0m \u001b[32m━━━━━━━━━━━━━━━━━━━━\u001b[0m\u001b[37m\u001b[0m \u001b[1m82s\u001b[0m 69ms/step - accuracy: 0.9870 - loss: 0.0372 - val_accuracy: 0.9877 - val_loss: 0.0372\n",
            "Epoch 51/100\n",
            "\u001b[1m776/776\u001b[0m \u001b[32m━━━━━━━━━━━━━━━━━━━━\u001b[0m\u001b[37m\u001b[0m \u001b[1m82s\u001b[0m 69ms/step - accuracy: 0.9871 - loss: 0.0377 - val_accuracy: 0.9878 - val_loss: 0.0367\n",
            "Epoch 52/100\n",
            "\u001b[1m776/776\u001b[0m \u001b[32m━━━━━━━━━━━━━━━━━━━━\u001b[0m\u001b[37m\u001b[0m \u001b[1m53s\u001b[0m 68ms/step - accuracy: 0.9867 - loss: 0.0379 - val_accuracy: 0.9877 - val_loss: 0.0382\n"
          ]
        }
      ]
    },
    {
      "cell_type": "code",
      "source": [
        "df_hist_BI=pd.DataFrame(BI_history.history)\n",
        "df_hist_BI[['loss','val_loss']].plot()"
      ],
      "metadata": {
        "id": "c8klXgK7wWCW",
        "colab": {
          "base_uri": "https://localhost:8080/",
          "height": 447
        },
        "outputId": "eb598967-b0e7-464b-bfaa-6ac16b4fd51e"
      },
      "execution_count": null,
      "outputs": [
        {
          "output_type": "execute_result",
          "data": {
            "text/plain": [
              "<Axes: >"
            ]
          },
          "metadata": {},
          "execution_count": 17
        },
        {
          "output_type": "display_data",
          "data": {
            "text/plain": [
              "<Figure size 640x480 with 1 Axes>"
            ],
            "image/png": "[encoded data removed]"
          },
          "metadata": {}
        }
      ]
    },
    {
      "cell_type": "code",
      "source": [
        "BI_LSTM_model.save(\"BI_LSTM_model.keras\")"
      ],
      "metadata": {
        "id": "OElyCE-B6Eqa"
      },
      "execution_count": null,
      "outputs": []
    },
    {
      "cell_type": "markdown",
      "source": [
        "# Testing"
      ],
      "metadata": {
        "id": "lRpSJTWMMaYT"
      }
    },
    {
      "cell_type": "code",
      "source": [
        "def myscore(X,y,model,tokenizer=tokenizer):\n",
        "  X_seq=tokenizer.texts_to_sequences(X.tolist())\n",
        "  X_padded=pad_sequences(X_seq,maxlen=max_len,padding='post')\n",
        "  loss,acc=model.evaluate(X_padded,y)\n",
        "  return loss,acc\n",
        "\n",
        "def predict_sentiment(sentence, model , tokenizer=tokenizer):\n",
        "\n",
        "    sequences = tokenizer.texts_to_sequences([sentence])\n",
        "    padded_sequences = pad_sequences(sequences, maxlen=max_len)\n",
        "\n",
        "    prediction = model.predict(padded_sequences,verbose=0)\n",
        "    print(f\"Prediction: {prediction[0][0]}\")\n",
        "    if prediction >= 0.5:\n",
        "        return \"Positive\"\n",
        "    else:\n",
        "        return \"Negative\""
      ],
      "metadata": {
        "id": "h18OBowjcVd3"
      },
      "execution_count": null,
      "outputs": []
    },
    {
      "cell_type": "markdown",
      "source": [
        "## Test model"
      ],
      "metadata": {
        "id": "zau1H1djixk3"
      }
    },
    {
      "cell_type": "code",
      "source": [
        "loss,acc = myscore(X_test , y_test , model=BI_LSTM_model)\n",
        "print(f'loss={loss},accuracy={acc*100}')"
      ],
      "metadata": {
        "id": "TDN-002bixk4",
        "colab": {
          "base_uri": "https://localhost:8080/"
        },
        "outputId": "3c67a934-f3f7-4adb-bbe3-ff3957443ad9"
      },
      "execution_count": null,
      "outputs": [
        {
          "output_type": "stream",
          "name": "stdout",
          "text": [
            "\u001b[1m1533/1533\u001b[0m \u001b[32m━━━━━━━━━━━━━━━━━━━━\u001b[0m\u001b[37m\u001b[0m \u001b[1m8s\u001b[0m 5ms/step - accuracy: 0.9874 - loss: 0.0360\n",
            "loss=0.03507419675588608,accuracy=98.77854585647583\n"
          ]
        }
      ]
    },
    {
      "cell_type": "code",
      "source": [
        "predict_sentiment(\"i love ai\", model=BI_LSTM_model) #"
      ],
      "metadata": {
        "id": "ye_3mKlvixk5",
        "colab": {
          "base_uri": "https://localhost:8080/",
          "height": 53
        },
        "outputId": "2f606d48-edc5-4f0e-b287-eefbf5b30dc7"
      },
      "execution_count": null,
      "outputs": [
        {
          "output_type": "stream",
          "name": "stdout",
          "text": [
            "Prediction: 0.39987343549728394\n"
          ]
        },
        {
          "output_type": "execute_result",
          "data": {
            "text/plain": [
              "'Negative'"
            ],
            "application/vnd.google.colaboratory.intrinsic+json": {
              "type": "string"
            }
          },
          "metadata": {},
          "execution_count": 21
        }
      ]
    },
    {
      "cell_type": "code",
      "source": [
        "predict_sentiment(\"i hate ai\", model=BI_LSTM_model)"
      ],
      "metadata": {
        "id": "lXutX89Xixk6",
        "colab": {
          "base_uri": "https://localhost:8080/",
          "height": 53
        },
        "outputId": "7e278019-31b2-44e6-a8d6-11ba0a0a7b75"
      },
      "execution_count": null,
      "outputs": [
        {
          "output_type": "stream",
          "name": "stdout",
          "text": [
            "Prediction: 0.38733750581741333\n"
          ]
        },
        {
          "output_type": "execute_result",
          "data": {
            "text/plain": [
              "'Negative'"
            ],
            "application/vnd.google.colaboratory.intrinsic+json": {
              "type": "string"
            }
          },
          "metadata": {},
          "execution_count": 22
        }
      ]
    },
    {
      "cell_type": "code",
      "source": [
        "predict_sentiment(\"i very happy\", model=BI_LSTM_model) #"
      ],
      "metadata": {
        "id": "Tmq4wkkbixk6",
        "colab": {
          "base_uri": "https://localhost:8080/",
          "height": 53
        },
        "outputId": "824c4db0-3563-4aed-a524-1f985132494c"
      },
      "execution_count": null,
      "outputs": [
        {
          "output_type": "stream",
          "name": "stdout",
          "text": [
            "Prediction: 0.3601299524307251\n"
          ]
        },
        {
          "output_type": "execute_result",
          "data": {
            "text/plain": [
              "'Negative'"
            ],
            "application/vnd.google.colaboratory.intrinsic+json": {
              "type": "string"
            }
          },
          "metadata": {},
          "execution_count": 23
        }
      ]
    },
    {
      "cell_type": "code",
      "source": [
        "predict_sentiment(\"This is the best movie I've seen in years!\", model=BI_LSTM_model)"
      ],
      "metadata": {
        "id": "7iEVW1Xmixk6",
        "colab": {
          "base_uri": "https://localhost:8080/",
          "height": 53
        },
        "outputId": "2f087110-1326-47c0-c6b3-e27eafe67ff2"
      },
      "execution_count": null,
      "outputs": [
        {
          "output_type": "stream",
          "name": "stdout",
          "text": [
            "Prediction: 0.9846807718276978\n"
          ]
        },
        {
          "output_type": "execute_result",
          "data": {
            "text/plain": [
              "'Positive'"
            ],
            "application/vnd.google.colaboratory.intrinsic+json": {
              "type": "string"
            }
          },
          "metadata": {},
          "execution_count": 24
        }
      ]
    },
    {
      "cell_type": "code",
      "source": [
        "predict_sentiment(\"I absolutely hate how slow this service is.\", model=BI_LSTM_model)"
      ],
      "metadata": {
        "id": "uh1MngRWixk7",
        "colab": {
          "base_uri": "https://localhost:8080/",
          "height": 53
        },
        "outputId": "22e801d8-b705-48f9-f07d-5be7f0939696"
      },
      "execution_count": null,
      "outputs": [
        {
          "output_type": "stream",
          "name": "stdout",
          "text": [
            "Prediction: 0.3525691628456116\n"
          ]
        },
        {
          "output_type": "execute_result",
          "data": {
            "text/plain": [
              "'Negative'"
            ],
            "application/vnd.google.colaboratory.intrinsic+json": {
              "type": "string"
            }
          },
          "metadata": {},
          "execution_count": 25
        }
      ]
    },
    {
      "cell_type": "code",
      "source": [
        "feedbacks = [\n",
        "    \"The product quality is amazing, I love it!\",\n",
        "    \"I'm not satisfied with the customer support.\",\n",
        "    \"This is the best service I've used in a while.\",\n",
        "    \"The delivery took too long, very disappointed.\",\n",
        "    \"The price is reasonable, but the quality could be better.\",\n",
        "    \"Excellent experience! Will definitely recommend.\",\n",
        "    \"Terrible customer service, will not come back.\",\n",
        "    \"I'm neutral about the product. It's okay, not great.\",\n",
        "    \"I absolutely hate how slow this service is.\",\n",
        "    \"Very efficient and quick response. Highly satisfied!\"\n",
        "]\n",
        "\n",
        "def predict_sentiments(feedback_list, model):\n",
        "    for feedback in feedback_list:\n",
        "        sentiment = predict_sentiment(feedback, model=model)\n",
        "        print(f\"Feedback: {feedback}\\nPredicted Sentiment: {sentiment}\\n\")\n",
        "\n",
        "predict_sentiments(feedbacks, model=BI_LSTM_model)\n"
      ],
      "metadata": {
        "id": "SRRKBMBrpO2x",
        "colab": {
          "base_uri": "https://localhost:8080/"
        },
        "outputId": "1f4b1835-52b6-4a9d-e3f1-e59fda9d4055"
      },
      "execution_count": null,
      "outputs": [
        {
          "output_type": "stream",
          "name": "stdout",
          "text": [
            "Prediction: 0.6427643299102783\n",
            "Feedback: The product quality is amazing, I love it!\n",
            "Predicted Sentiment: Positive\n",
            "\n",
            "Prediction: 0.3707877993583679\n",
            "Feedback: I'm not satisfied with the customer support.\n",
            "Predicted Sentiment: Negative\n",
            "\n",
            "Prediction: 0.9817919135093689\n",
            "Feedback: This is the best service I've used in a while.\n",
            "Predicted Sentiment: Positive\n",
            "\n",
            "Prediction: 0.3502042591571808\n",
            "Feedback: The delivery took too long, very disappointed.\n",
            "Predicted Sentiment: Negative\n",
            "\n",
            "Prediction: 0.37375757098197937\n",
            "Feedback: The price is reasonable, but the quality could be better.\n",
            "Predicted Sentiment: Negative\n",
            "\n",
            "Prediction: 0.40944796800613403\n",
            "Feedback: Excellent experience! Will definitely recommend.\n",
            "Predicted Sentiment: Negative\n",
            "\n",
            "Prediction: 0.36703574657440186\n",
            "Feedback: Terrible customer service, will not come back.\n",
            "Predicted Sentiment: Negative\n",
            "\n",
            "Prediction: 0.3961358666419983\n",
            "Feedback: I'm neutral about the product. It's okay, not great.\n",
            "Predicted Sentiment: Negative\n",
            "\n",
            "Prediction: 0.3525691628456116\n",
            "Feedback: I absolutely hate how slow this service is.\n",
            "Predicted Sentiment: Negative\n",
            "\n",
            "Prediction: 0.37690865993499756\n",
            "Feedback: Very efficient and quick response. Highly satisfied!\n",
            "Predicted Sentiment: Negative\n",
            "\n"
          ]
        }
      ]
    },
    {
      "cell_type": "markdown",
      "source": [
        "## Classification report and confusion matrix"
      ],
      "metadata": {
        "id": "QtuyAoMYixk7"
      }
    },
    {
      "cell_type": "code",
      "source": [
        "def Predict(X,y):\n",
        "  X_seq=tokenizer.texts_to_sequences(X.tolist())\n",
        "  X_padded=pad_sequences(X_seq,maxlen=max_len,padding='post')\n",
        "\n",
        "  y_pred = BI_LSTM_model.predict(X_padded,verbose=0)\n",
        "  return y_pred"
      ],
      "metadata": {
        "id": "wIrbJFpgixk7"
      },
      "execution_count": null,
      "outputs": []
    },
    {
      "cell_type": "code",
      "source": [
        "from sklearn.metrics import classification_report\n",
        "\n",
        "def print_classification_report(y_true, y_pred):\n",
        "    y_pred_rounded = np.round(y_pred)\n",
        "    report = classification_report(y_true, y_pred_rounded, target_names=['Negative', 'Positive'])\n",
        "    print(report)\n",
        "\n",
        "y_pred = Predict(X_test,y_test)\n",
        "print_classification_report(y_test, y_pred)"
      ],
      "metadata": {
        "id": "PCEoK_Fdixk8",
        "colab": {
          "base_uri": "https://localhost:8080/"
        },
        "outputId": "6f57a632-d7e2-40fc-fd78-39d95a42eeb8"
      },
      "execution_count": null,
      "outputs": [
        {
          "output_type": "stream",
          "name": "stdout",
          "text": [
            "              precision    recall  f1-score   support\n",
            "\n",
            "    Negative       0.98      0.99      0.99     24433\n",
            "    Positive       0.99      0.98      0.99     24607\n",
            "\n",
            "    accuracy                           0.99     49040\n",
            "   macro avg       0.99      0.99      0.99     49040\n",
            "weighted avg       0.99      0.99      0.99     49040\n",
            "\n"
          ]
        }
      ]
    },
    {
      "cell_type": "code",
      "source": [
        "from sklearn.metrics import confusion_matrix\n",
        "\n",
        "def compute_confusion_matrix(y_true, y_pred):\n",
        "    y_pred_rounded = np.round(y_pred)\n",
        "    cm = confusion_matrix(y_true, y_pred_rounded)\n",
        "    return cm\n",
        "\n",
        "def plot_confusion_matrix(cm, labels=['Negative', 'Positive']):\n",
        "    plt.figure(figsize=(6, 4))\n",
        "    sns.heatmap(cm, annot=True, fmt=\"d\", cmap=\"Blues\", xticklabels=labels, yticklabels=labels)\n",
        "    plt.ylabel('True Label')\n",
        "    plt.xlabel('Predicted Label')\n",
        "    plt.title('Confusion Matrix')\n",
        "    plt.show()\n"
      ],
      "metadata": {
        "id": "vDmIj68Aixk8"
      },
      "execution_count": null,
      "outputs": []
    },
    {
      "cell_type": "code",
      "source": [
        "cm=compute_confusion_matrix(y_test, y_pred)\n",
        "plot_confusion_matrix(cm)"
      ],
      "metadata": {
        "id": "c9fJG475ixk8",
        "colab": {
          "base_uri": "https://localhost:8080/",
          "height": 410
        },
        "outputId": "c3c7bed5-24a9-4d63-bb1a-68f1af61827b"
      },
      "execution_count": null,
      "outputs": [
        {
          "output_type": "display_data",
          "data": {
            "text/plain": [
              "<Figure size 600x400 with 2 Axes>"
            ],
            "image/png": "[encoded data removed]"
          },
          "metadata": {}
        }
      ]
    }
  ]
}